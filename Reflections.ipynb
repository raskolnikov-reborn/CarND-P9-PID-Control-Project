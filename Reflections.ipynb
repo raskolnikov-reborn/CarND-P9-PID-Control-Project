{
 "cells": [
  {
   "cell_type": "markdown",
   "metadata": {},
   "source": [
    "## PID Control Project Reflections and Summary\n",
    "In this Project It was expected that A PID controller would be written and tuned to control the steering angle of a Car in the Term 2 Simulator. A reflection and justification on parameters, their effects, nuances and final parameter selection was expected, which this writeup shall attempt to address\n",
    "\n",
    "#### Contents\n",
    "* PID controller as a concept\n",
    "* PID applied to the Self Driving Car\n",
    "* Implementation methodology\n",
    "* Tuning Methodology\n",
    "* Final Parameter Selection\n",
    "* Future work and thoughts"
   ]
  },
  {
   "cell_type": "markdown",
   "metadata": {},
   "source": [
    "### PID controller as a concept\n",
    "The PID controller is a tried and tested method to achieve a target state by applying corrections based on the following error metrics:\n",
    "* Absolute Instantaneous Error (P) : Difference between current state and target state\n",
    "* Instantaneous Change in Error (D) : Instantaneous rate of change of Cross track Error\n",
    "* Overall Accumulated Error (I) : Accumulated Error\n",
    "\n",
    "#### Coefficients \n",
    "* Kp: Is the Proportional Correction coefficient. It is responsible for the Direction and magnitude of the correction. However due to the momentum principle in control problems, Just using Kp will result in overshoot of the target state.\n",
    "* Ki: Is the Integral Correction Coefficient. It is responsible for the elimination of the residual steady-state error that occurs with a pure proportional controller while increasing the speed of achieving target state. The momentum principle can plague the I controller as well so it is also prone to overshoot and oscillation\n",
    "* Kd: Is the Differential Correction Coefficient. It is reponsbile for Dampening of the oscillation by being sensitive to the rate of change of instantaneous error rather than just pure magnitude or direction. Simply put, Kd will delay the achievement of target state but will also dampen and suppress the overshoot and oscillations.\n",
    "\n",
    "The Mathematics governing the PID Controller is expressed as \n",
    "![Equation](./writeup_helpers/Equation.svg \"Equation\")\n",
    "\n",
    "where the terms hold their obvious meanings.\n"
   ]
  },
  {
   "cell_type": "markdown",
   "metadata": {},
   "source": [
    "### PID applied to the Self Driving Car\n",
    "PID control has myriad applications in the Autonomous Mobile Robots and Self Driving Cars Domain. This project required control of a Self Driving Car in the Simulator using the PID loop on the steering. Another sentiment expressed in the project writeups was to see how fast could the car go in the simulator while not going off track. Towards this I also added a PID controller on the Target speed. Details of this are explained in the Subsequent Section. A steering gain parameter was determined heuristically to both seed the initial values of the Steering PID and calculate the Maximum Target Speed in relation to current Steering angle."
   ]
  },
  {
   "cell_type": "markdown",
   "metadata": {},
   "source": [
    "### Implementation Methodology\n",
    "As discussed above, the salient features of the implementation presented here are\n",
    "* A Steering PID Controller that controls the Steering angle\n",
    "* A Velocity PID Controller that controls the throttle Value\n",
    "* A Twiddle Loop that monitors error over a fixed number of iterations (determined heuristically) and adjusts Kp, Ki and Kd\n",
    "* Steering gain parameter that correlates absolute correction with steering input value"
   ]
  },
  {
   "cell_type": "markdown",
   "metadata": {},
   "source": [
    "### Tuning Methodology\n",
    "The Following steps were followed during the tuning Iterations\n",
    "\n",
    "* A Steering gain was tuned heuristically to get the car to drive safely for one lap using the Kp, Ki, Kd values in there sensible order of magnitudes namely 0.1, 0.01, 1.0\n",
    "* After the absolute values of the Kp, Ki, Kd were calculated that could complete one lap at 10 mph, the speed was gradually increased till the car could not complete one lap.\n",
    "* Twiddle on both Velocity and Steering controllers was enabled and the iterations for checking error were adjusted till the car could drive safely\n",
    "* Twiddle was disabled and Speed target was increased till car went off the track.\n",
    "* Twiddle was re-enabled till car could drive safely.\n",
    "* Finally Steering Twiddle was disabled to fine tune the Velocity PID independently\n",
    "* Then Velocity twiddle was disabled to fine tune the Steering PID independently\n"
   ]
  },
  {
   "cell_type": "markdown",
   "metadata": {},
   "source": [
    "### Final Parameter Selection\n",
    "#### Effect of Coefficients\n",
    "* If Kp is too high, Car will oscillate too much both in the steering as well as the speed domain. There will be constant overshoot which can result in vehicle going offtrack at points where the margin for error is low. If Kp is too low the Car will have a tendency to understeer at turns and will go off track in certain cases.\n",
    "\n",
    "* If Kd is too high, There is a lot of jitter in the system about the target position, If it is too low , The overshoot problem occuring from Kp, and Ki will not be dampened enough.\n",
    "\n",
    "* If Ki is too high, it can lead to historical error accumulation overpowering the instantaneous error and the rate of change components (Kp,Kd). If it is too low or absent, the controller will not be able to smoothen the correction curve. \n",
    "\n",
    "#### Final Parameter Choice\n",
    "Since 2 PIDs were used which sort of impact each other, the tuning had to progress both simultaneously as well as in alternate cycles once driving at higher speeds was attained.\n",
    "\n",
    "The Final Parameter set was as follows \n",
    "* Steering Kp, Ki, Kd : (0.097221000, 0.000018, 1.992889)\n",
    "* Velocity Kp, Ki, Kd : (0.109170, 0.000754, 0.841226)\n",
    "* Steering gain : 2.86\n",
    "\n",
    "Both Velocity as well as Steering PID Kp coefficients were kept on the higher side to be able to go as fast as possible. Speed as high as 93mph was attained on straight sections on some of the lap runs. Videos recorded have been attached as reference."
   ]
  },
  {
   "cell_type": "code",
   "execution_count": null,
   "metadata": {
    "collapsed": true
   },
   "outputs": [],
   "source": []
  }
 ],
 "metadata": {
  "kernelspec": {
   "display_name": "Python 3",
   "language": "python",
   "name": "python3"
  },
  "language_info": {
   "codemirror_mode": {
    "name": "ipython",
    "version": 3
   },
   "file_extension": ".py",
   "mimetype": "text/x-python",
   "name": "python",
   "nbconvert_exporter": "python",
   "pygments_lexer": "ipython3",
   "version": "3.5.3"
  }
 },
 "nbformat": 4,
 "nbformat_minor": 2
}
